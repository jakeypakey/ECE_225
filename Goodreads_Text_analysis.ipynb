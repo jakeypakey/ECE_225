{
 "cells": [
  {
   "cell_type": "code",
   "execution_count": 88,
   "metadata": {},
   "outputs": [],
   "source": [
    "import pandas as pd\n",
    "import numpy as np\n",
    "from pandas_profiling import ProfileReport\n",
    "from ast import literal_eval\n",
    "import matplotlib\n",
    "#matplotlib.use('TkAgg')\n",
    "import matplotlib.pyplot as plt\n",
    "from wordcloud import WordCloud\n",
    "from wordcloud import STOPWORDS\n",
    "#originalDf = pd.io.json.read_json('data/goodreads_reviews_comics_graphic.json',lines=True) \n",
    "#r =ProfileReport(df)\n",
    "#r.to_file('data_eda.html')\n",
    "#text analysis\n",
    "# ->word association with good or bads\n",
    "# ->number of comments as a funciton of other reviews\n",
    "#duration and effect on other things (rating, votes, etc)\n",
    "df = originalDf.copy()\n",
    "#custom is number function\n",
    "def is_num(n):\n",
    "    if n.isdigit():\n",
    "        return True\n",
    "    try:\n",
    "        num = float(n)\n",
    "    except:\n",
    "        return False\n",
    "    return True\n",
    "def get_word_dist(df):\n",
    "    words = df[['review_id','review_text']].set_index('review_id',drop=True).to_dict()['review_text']\n",
    "    ratings = df[['review_id','rating']].set_index('review_id',drop=True).to_dict()['rating']\n",
    "    #drop the numbers, and clean out punctuation\n",
    "    punctuation= \"\"\"!()-[]{};:'\"\\, <>./?@#$%^&*_~+|\"\"\"\n",
    "    #now, UID:bag of words for each review\n",
    "    words = {k:[w.strip(punctuation).lower() for w in v.split() if not is_num(w.strip(punctuation))] for k,v in words.items()}\n",
    "    all_words = [(ratings[k],v) for k,vv in words.items() for v in vv]\n",
    "    word_rats = {'ratings':[x[0] for x in all_words],'word':[x[1] for x in all_words]}\n",
    "    word_ratings = pd.DataFrame(word_rats)\n",
    "    mean_rat = word_ratings.groupby('word').mean()['ratings'].to_dict()\n",
    "    count_rat = word_ratings.groupby('word').count()['ratings'].to_dict()\n",
    "    word_ratings['mean'] = word_ratings['word'].apply(lambda x: mean_rat[x])\n",
    "    word_ratings['count'] = word_ratings['word'].apply(lambda x: count_rat[x])\n",
    "    return word_ratings.drop('ratings',axis=1).drop_duplicates()\n",
    "#df = get_word_dist(df)\n",
    "#df.to_csv('word_dist.csv')\n",
    "word_df = pd.read_csv('word_dist.csv').drop('Unnamed: 0',axis=1)"
   ]
  },
  {
   "cell_type": "code",
   "execution_count": 89,
   "metadata": {},
   "outputs": [
    {
     "data": {
      "text/html": [
       "<div>\n",
       "<style scoped>\n",
       "    .dataframe tbody tr th:only-of-type {\n",
       "        vertical-align: middle;\n",
       "    }\n",
       "\n",
       "    .dataframe tbody tr th {\n",
       "        vertical-align: top;\n",
       "    }\n",
       "\n",
       "    .dataframe thead th {\n",
       "        text-align: right;\n",
       "    }\n",
       "</style>\n",
       "<table border=\"1\" class=\"dataframe\">\n",
       "  <thead>\n",
       "    <tr style=\"text-align: right;\">\n",
       "      <th></th>\n",
       "      <th>mean</th>\n",
       "      <th>count</th>\n",
       "    </tr>\n",
       "  </thead>\n",
       "  <tbody>\n",
       "    <tr>\n",
       "      <th>count</th>\n",
       "      <td>634729.000000</td>\n",
       "      <td>6.347290e+05</td>\n",
       "    </tr>\n",
       "    <tr>\n",
       "      <th>mean</th>\n",
       "      <td>3.786642</td>\n",
       "      <td>7.666840e+01</td>\n",
       "    </tr>\n",
       "    <tr>\n",
       "      <th>std</th>\n",
       "      <td>0.959408</td>\n",
       "      <td>5.243051e+03</td>\n",
       "    </tr>\n",
       "    <tr>\n",
       "      <th>min</th>\n",
       "      <td>0.000000</td>\n",
       "      <td>1.000000e+00</td>\n",
       "    </tr>\n",
       "    <tr>\n",
       "      <th>25%</th>\n",
       "      <td>3.000000</td>\n",
       "      <td>1.000000e+00</td>\n",
       "    </tr>\n",
       "    <tr>\n",
       "      <th>50%</th>\n",
       "      <td>4.000000</td>\n",
       "      <td>1.000000e+00</td>\n",
       "    </tr>\n",
       "    <tr>\n",
       "      <th>75%</th>\n",
       "      <td>4.333333</td>\n",
       "      <td>3.000000e+00</td>\n",
       "    </tr>\n",
       "    <tr>\n",
       "      <th>max</th>\n",
       "      <td>5.000000</td>\n",
       "      <td>2.456777e+06</td>\n",
       "    </tr>\n",
       "  </tbody>\n",
       "</table>\n",
       "</div>"
      ],
      "text/plain": [
       "                mean         count\n",
       "count  634729.000000  6.347290e+05\n",
       "mean        3.786642  7.666840e+01\n",
       "std         0.959408  5.243051e+03\n",
       "min         0.000000  1.000000e+00\n",
       "25%         3.000000  1.000000e+00\n",
       "50%         4.000000  1.000000e+00\n",
       "75%         4.333333  3.000000e+00\n",
       "max         5.000000  2.456777e+06"
      ]
     },
     "execution_count": 89,
     "metadata": {},
     "output_type": "execute_result"
    }
   ],
   "source": [
    "word_df.describe()"
   ]
  },
  {
   "cell_type": "code",
   "execution_count": 90,
   "metadata": {},
   "outputs": [],
   "source": [
    "#clearly most words only occur once time, so we'll drop typical stop words (i,if,a,the,)\n",
    "#as we assume they are meaningless, and will drop any word that doesnt occur at least 5 times\n",
    "word_df = word_df[(word_df['count']>=5) & ~(word_df['word'].isin(STOPWORDS))]"
   ]
  },
  {
   "cell_type": "code",
   "execution_count": 91,
   "metadata": {},
   "outputs": [
    {
     "data": {
      "text/html": [
       "<div>\n",
       "<style scoped>\n",
       "    .dataframe tbody tr th:only-of-type {\n",
       "        vertical-align: middle;\n",
       "    }\n",
       "\n",
       "    .dataframe tbody tr th {\n",
       "        vertical-align: top;\n",
       "    }\n",
       "\n",
       "    .dataframe thead th {\n",
       "        text-align: right;\n",
       "    }\n",
       "</style>\n",
       "<table border=\"1\" class=\"dataframe\">\n",
       "  <thead>\n",
       "    <tr style=\"text-align: right;\">\n",
       "      <th></th>\n",
       "      <th>mean</th>\n",
       "      <th>count</th>\n",
       "    </tr>\n",
       "  </thead>\n",
       "  <tbody>\n",
       "    <tr>\n",
       "      <th>count</th>\n",
       "      <td>124050.000000</td>\n",
       "      <td>124050.000000</td>\n",
       "    </tr>\n",
       "    <tr>\n",
       "      <th>mean</th>\n",
       "      <td>3.805600</td>\n",
       "      <td>204.725256</td>\n",
       "    </tr>\n",
       "    <tr>\n",
       "      <th>std</th>\n",
       "      <td>0.466388</td>\n",
       "      <td>2366.312976</td>\n",
       "    </tr>\n",
       "    <tr>\n",
       "      <th>min</th>\n",
       "      <td>0.000000</td>\n",
       "      <td>5.000000</td>\n",
       "    </tr>\n",
       "    <tr>\n",
       "      <th>25%</th>\n",
       "      <td>3.583333</td>\n",
       "      <td>7.000000</td>\n",
       "    </tr>\n",
       "    <tr>\n",
       "      <th>50%</th>\n",
       "      <td>3.833333</td>\n",
       "      <td>14.000000</td>\n",
       "    </tr>\n",
       "    <tr>\n",
       "      <th>75%</th>\n",
       "      <td>4.075269</td>\n",
       "      <td>43.000000</td>\n",
       "    </tr>\n",
       "    <tr>\n",
       "      <th>max</th>\n",
       "      <td>5.000000</td>\n",
       "      <td>267520.000000</td>\n",
       "    </tr>\n",
       "  </tbody>\n",
       "</table>\n",
       "</div>"
      ],
      "text/plain": [
       "                mean          count\n",
       "count  124050.000000  124050.000000\n",
       "mean        3.805600     204.725256\n",
       "std         0.466388    2366.312976\n",
       "min         0.000000       5.000000\n",
       "25%         3.583333       7.000000\n",
       "50%         3.833333      14.000000\n",
       "75%         4.075269      43.000000\n",
       "max         5.000000  267520.000000"
      ]
     },
     "execution_count": 91,
     "metadata": {},
     "output_type": "execute_result"
    }
   ],
   "source": [
    "word_df.describe()"
   ]
  },
  {
   "cell_type": "code",
   "execution_count": 93,
   "metadata": {},
   "outputs": [],
   "source": [
    "wc = WordCloud(background_color=\"white\", max_words=1000)\n",
    "# generate word cloud\n",
    "counts = word_df[['word','count']].set_index('word',drop=True).to_dict()['count']\n",
    "wc.generate_from_frequencies(counts)\n",
    "plt.imshow(wc, interpolation=\"bilinear\")\n",
    "plt.axis(\"off\")\n",
    "plt.show()"
   ]
  },
  {
   "cell_type": "code",
   "execution_count": null,
   "metadata": {},
   "outputs": [],
   "source": []
  },
  {
   "cell_type": "code",
   "execution_count": 29,
   "metadata": {},
   "outputs": [
    {
     "ename": "NameError",
     "evalue": "name 'word_counts' is not defined",
     "output_type": "error",
     "traceback": [
      "\u001b[0;31m---------------------------------------------------------------------------\u001b[0m",
      "\u001b[0;31mNameError\u001b[0m                                 Traceback (most recent call last)",
      "\u001b[0;32m<ipython-input-29-02c6ae30d0bd>\u001b[0m in \u001b[0;36m<module>\u001b[0;34m\u001b[0m\n\u001b[0;32m----> 1\u001b[0;31m \u001b[0mword_ratings\u001b[0m \u001b[0;34m=\u001b[0m \u001b[0mword_counts\u001b[0m\u001b[0;34m.\u001b[0m\u001b[0mdrop_duplictes\u001b[0m\u001b[0;34m(\u001b[0m\u001b[0;34m)\u001b[0m\u001b[0;34m\u001b[0m\u001b[0;34m\u001b[0m\u001b[0m\n\u001b[0m",
      "\u001b[0;31mNameError\u001b[0m: name 'word_counts' is not defined"
     ]
    }
   ],
   "source": []
  },
  {
   "cell_type": "code",
   "execution_count": 26,
   "metadata": {},
   "outputs": [
    {
     "data": {
      "text/plain": [
       "888"
      ]
     },
     "execution_count": 26,
     "metadata": {},
     "output_type": "execute_result"
    }
   ],
   "source": [
    "count_rat['sherlock']"
   ]
  },
  {
   "cell_type": "code",
   "execution_count": null,
   "metadata": {},
   "outputs": [],
   "source": []
  }
 ],
 "metadata": {
  "kernelspec": {
   "display_name": "Python 3",
   "language": "python",
   "name": "python3"
  },
  "language_info": {
   "codemirror_mode": {
    "name": "ipython",
    "version": 3
   },
   "file_extension": ".py",
   "mimetype": "text/x-python",
   "name": "python",
   "nbconvert_exporter": "python",
   "pygments_lexer": "ipython3",
   "version": "3.8.3"
  }
 },
 "nbformat": 4,
 "nbformat_minor": 4
}
